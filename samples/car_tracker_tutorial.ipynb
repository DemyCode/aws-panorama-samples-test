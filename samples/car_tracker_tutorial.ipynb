{
 "cells": [
  {
   "cell_type": "markdown",
   "id": "20d791a0",
   "metadata": {
    "tags": []
   },
   "source": [
    "# Car Tracker \n",
    "\n",
    "\n",
    "This notebook shows how to build a simple car dwell time tracker a pretrained SSD Mobilenet Tensorflow Object Detection Model and a Centroid Tracker.\n",
    "\n",
    "By completing this notebook, you will learn:\n",
    "* How to write a Python script for your app that takes in camera streams, performs inference, and outputs results\n",
    "* How to use a Tensorflow Object Detecrtion model with Panorama\n",
    "* How to bundle additional Python files and libraries with your container\n",
    "* How to build a simple car tracker\n",
    "* How to test your code using the Panorama emulator, which saves you build and deploy time\n",
    "* How to programmatically package and deploy applications using the Panorama CLI\n",
    "\n",
    "--- \n",
    "\n",
    "1. [Prerequisites](#Prerequisites)\n",
    "1. [Set up](#Set-up)\n",
    "1. [Import model](#Import-model)\n",
    "1. [Write and test app code](#Write-and-test-app-code)\n",
    "1. [Package app](#Package-app)\n",
    "1. [Deploy app to device](#Deploy-app-to-device)"
   ]
  },
  {
   "cell_type": "markdown",
   "id": "6d28ad3d",
   "metadata": {},
   "source": [
    "# Prerequisites\n",
    "\n",
    "1. In a terminal session on this Jupyter notebook server, run `aws configure`. This allows this notebook server to access Panorama resources on your behalf."
   ]
  },
  {
   "cell_type": "code",
   "execution_count": null,
   "id": "8b84d273",
   "metadata": {},
   "outputs": [],
   "source": [
    "# Run this only once\n",
    "!pip3 install scipy"
   ]
  },
  {
   "cell_type": "markdown",
   "id": "978aba4d",
   "metadata": {},
   "source": [
    "# Set Up\n",
    "Import libraries for use with this notebook environment, you do not need these libraries when you write your application code. Run these 3 cells every time you update your app code and restart your kernel."
   ]
  },
  {
   "cell_type": "code",
   "execution_count": null,
   "id": "b3214491",
   "metadata": {},
   "outputs": [],
   "source": [
    "import boto3\n",
    "from botocore.exceptions import ClientError\n",
    "s3 = boto3.resource('s3')\n",
    "s3_client = boto3.client('s3')\n",
    "panorama_client = boto3.client('panorama')\n",
    "\n",
    "import os\n",
    "import time\n",
    "import json\n",
    "import sagemaker\n",
    "import sys\n",
    "\n",
    "path = os.path.abspath(os.path.join(os.path.dirname(\"panorama_sdk\"), '../'))\n",
    "sys.path.insert(1, path + '/panorama_sdk')\n",
    "import utils\n",
    "\n",
    "import matplotlib.pyplot as plt\n",
    "%matplotlib inline\n",
    "plt.rcParams[\"figure.figsize\"] = (20,20)\n",
    "from IPython.display import clear_output\n",
    "from IPython.core.magic import register_cell_magic\n",
    "\n",
    "@register_cell_magic\n",
    "def run_and_save(line, cell):\n",
    "    'Run and save python code block to a file'\n",
    "    with open(line, 'wt') as fd:\n",
    "        fd.write(cell)\n",
    "    code = compile(cell, line, 'exec')\n",
    "    exec(code, globals())"
   ]
  },
  {
   "cell_type": "markdown",
   "id": "15beab6c",
   "metadata": {
    "tags": []
   },
   "source": [
    "## Notebook parameters\n",
    "\n",
    "Global constants that help the notebook create Panorama resources on your behalf."
   ]
  },
  {
   "cell_type": "code",
   "execution_count": null,
   "id": "5b6fac93",
   "metadata": {},
   "outputs": [],
   "source": [
    "## Device Related Globals\n",
    "DEVICE_ID = '' # Device ID, should look like: device-oc66nax4cgzwhyuaeyifrqowue\n",
    "assert DEVICE_ID != '', \"PLEASE ENTER  YOUR DEVICE ID\"\n",
    "\n",
    "# Bucket Related Globals\n",
    "S3_BUCKET = '' # Enter your S3 bucket info here\n",
    "assert S3_BUCKET != '', \"PLEASE ENTER A BUCKET NAME\"\n",
    "\n",
    "# AWS region\n",
    "AWS_REGION = 'us-east-1' # Enter your desired AWS region\n",
    "\n",
    "\n",
    "ML_MODEL_FNAME = 'ssd_mobilenet_v2_coco'"
   ]
  },
  {
   "cell_type": "code",
   "execution_count": null,
   "id": "da90acb0",
   "metadata": {
    "tags": []
   },
   "outputs": [],
   "source": [
    "## Working directory\n",
    "__builtins__.workdir = '/home/ubuntu/awspanoramasamples/samples'\n",
    "\n",
    "## APP Graph Related Globals\n",
    "\n",
    "__builtins__.project_name = 'car_tracker'\n",
    "__builtins__.package_name = 'CAR_TRACKER_CODE'\n",
    "__builtins__.camera_node_name = 'RTSP_STREAM'\n",
    "__builtins__.model_node_name = 'CAR_SSD_TF_MODEL'\n",
    "\n",
    "## Model Related Globals\n",
    "__builtins__.model_preprocess_size = 300\n",
    "__builtins__.emulator_model_name = ML_MODEL_FNAME + '-LINUX_ARM64'\n",
    "\n",
    "## Video Related Globals\n",
    "__builtins__.videoname = 'Car-in-the-mist_coverr.mp4'\n",
    "\n",
    "### Account ID\n",
    "__builtins__.account_id = boto3.client(\"sts\").get_caller_identity()[\"Account\"]\n",
    "\n",
    "### DEPLOYED APPLICATION NAME \n",
    "__builtins__.app_name = 'car_tracker_app'"
   ]
  },
  {
   "cell_type": "markdown",
   "id": "d10538b4",
   "metadata": {
    "tags": []
   },
   "source": [
    "## Set up application\n",
    "\n",
    "Every application uses the creator's AWS Account ID as the prefix to uniquely identifies the application resources. Running `panorama-cli import-application` replaces the generic account Id with your account Id."
   ]
  },
  {
   "cell_type": "code",
   "execution_count": null,
   "id": "0def74a1",
   "metadata": {},
   "outputs": [],
   "source": [
    "utils.cleanupipynb(os.curdir)\n",
    "os.chdir('{}/{}/{}'.format(workdir,project_name,app_name))"
   ]
  },
  {
   "cell_type": "code",
   "execution_count": null,
   "id": "d017f0bd",
   "metadata": {},
   "outputs": [],
   "source": [
    "!panorama-cli import-application"
   ]
  },
  {
   "cell_type": "code",
   "execution_count": null,
   "id": "efc5223b",
   "metadata": {},
   "outputs": [],
   "source": [
    "os.chdir('{}/{}'.format(workdir,project_name))"
   ]
  },
  {
   "cell_type": "markdown",
   "id": "8933b6d8",
   "metadata": {
    "tags": []
   },
   "source": [
    "# Import model\n",
    "\n",
    "We need to compile and import the model twice. Once for testing with this notebook server and once for deploying to the Panorama device.\n",
    "\n",
    "While working with the Panorama sample code, we provide pretrained models for you to use. Locally, models are stored in `panorama_sdk/models`. This step downloads the model artifacts from our Amazon S3 bucket to the local folder. If you want to use your own models, put your tar.gz file into the `panorama_sdk/models folder`."
   ]
  },
  {
   "cell_type": "markdown",
   "id": "23f9a327",
   "metadata": {},
   "source": [
    "### Prepare model for testing with notebook server"
   ]
  },
  {
   "cell_type": "code",
   "execution_count": null,
   "id": "ca75fc18",
   "metadata": {},
   "outputs": [],
   "source": [
    "# Downloads pretrained model to this notebook\n",
    "utils.download_model(ML_MODEL_FNAME)"
   ]
  },
  {
   "cell_type": "markdown",
   "id": "cd278e76",
   "metadata": {},
   "source": [
    "Uploads the model to S3 in order to start the compilation job."
   ]
  },
  {
   "cell_type": "code",
   "execution_count": null,
   "id": "994f5fc7",
   "metadata": {},
   "outputs": [],
   "source": [
    "s3.meta.client.upload_file('{}/panorama_sdk/models/{}.tar.gz'.format(workdir,ML_MODEL_FNAME), \n",
    "                           S3_BUCKET, '{}/{}.tar.gz'.format(project_name, ML_MODEL_FNAME))"
   ]
  },
  {
   "cell_type": "markdown",
   "id": "71244621",
   "metadata": {},
   "source": [
    "Start the compilation job. For the Panorama samples, we provide a utils.py library with common functions. We encourage you to look at the code inside utils.py in order to learn what the common functions are doing `panorama_sdk/utils.py`."
   ]
  },
  {
   "cell_type": "code",
   "execution_count": null,
   "id": "ac71b397",
   "metadata": {},
   "outputs": [],
   "source": [
    "utils.compile_model(region = AWS_REGION, \n",
    "                    s3_model_location = 's3://{}/{}/{}.tar.gz'.format(S3_BUCKET, project_name, ML_MODEL_FNAME), \n",
    "                    data_shape =  '{\"image_tensor\":[1,300,300,3]}', \n",
    "                    framework = 'TENSORFLOW', \n",
    "                    s3_output_location = 's3://{}/{}/'.format(S3_BUCKET, project_name), \n",
    "                    role = utils.resolve_sm_role())"
   ]
  },
  {
   "cell_type": "markdown",
   "id": "bec59b12",
   "metadata": {
    "tags": []
   },
   "source": [
    "Downloads the compiled model for use with this notebook server."
   ]
  },
  {
   "cell_type": "code",
   "execution_count": null,
   "id": "29bc315f",
   "metadata": {
    "tags": []
   },
   "outputs": [],
   "source": [
    "s3_client.download_file(S3_BUCKET, \n",
    "                '{}/{}-LINUX_ARM64.tar.gz'.format(project_name, ML_MODEL_FNAME), \n",
    "                '{}/panorama_sdk/models/{}-LINUX_ARM64.tar.gz'.format(workdir,ML_MODEL_FNAME))"
   ]
  },
  {
   "cell_type": "markdown",
   "id": "bc54a848",
   "metadata": {},
   "source": [
    "Unzip the compiled model"
   ]
  },
  {
   "cell_type": "code",
   "execution_count": null,
   "id": "e0b455bf",
   "metadata": {},
   "outputs": [],
   "source": [
    "path = os.getcwd()\n",
    "os.chdir('{}/panorama_sdk/models'.format(workdir))\n",
    "!tar -xf {ML_MODEL_FNAME}-LINUX_ARM64.tar.gz --one-top-level\n",
    "os.chdir(path)"
   ]
  },
  {
   "cell_type": "markdown",
   "id": "e17a5f4a",
   "metadata": {
    "tags": []
   },
   "source": [
    "### Prepare model for deploying to Panorama device\n"
   ]
  },
  {
   "cell_type": "code",
   "execution_count": null,
   "id": "f2c7fd12",
   "metadata": {},
   "outputs": [],
   "source": [
    "os.chdir('{}/{}/{}'.format(workdir,project_name,app_name))\n",
    "utils.cleanupipynb(os.curdir)"
   ]
  },
  {
   "cell_type": "code",
   "execution_count": null,
   "id": "b01d42e3",
   "metadata": {},
   "outputs": [],
   "source": [
    "asset_name = 'model_asset'\n",
    "package_path = 'packages/{}-{}-1.0'.format(account_id, model_node_name)\n",
    "descriptor_path = 'packages/{}-{}-1.0/descriptor.json'.format(account_id, model_node_name)"
   ]
  },
  {
   "cell_type": "code",
   "execution_count": null,
   "id": "d347cc0f",
   "metadata": {},
   "outputs": [],
   "source": [
    "!sudo panorama-cli add-raw-model --model-asset-name {asset_name} \\\n",
    "                                --model-s3-uri s3://{S3_BUCKET}/{project_name}/{ML_MODEL_FNAME}.tar.gz \\\n",
    "                                --descriptor-path {descriptor_path}  \\\n",
    "                                --packages-path {package_path}"
   ]
  },
  {
   "cell_type": "code",
   "execution_count": null,
   "id": "5766b19b",
   "metadata": {},
   "outputs": [],
   "source": [
    "os.chdir('{}/{}'.format(workdir,project_name))"
   ]
  },
  {
   "cell_type": "markdown",
   "id": "db9ba77e",
   "metadata": {},
   "source": [
    "# Write and test app code"
   ]
  },
  {
   "cell_type": "markdown",
   "id": "e11fbf47",
   "metadata": {},
   "source": [
    "Every app has an entry point script, written in Python that pulls the frames from camera streams, performs inference, and send the results to the desired location. This file can be found in `your_app/packages/code_node/src/main.py`. Below, you will iterate on the code from within the notebook environment. The entry point file will be updated everytime you run the next notebook cell thanks to the `%%run_and_save people_counter_main.py`. This is a utility function to update the contents of the entry point script. \n",
    "\n",
    "The next cell will loop through the test video until you select Stop on your Jupyter notebook cell. \n",
    "\n",
    "### Iterating on Code Changes\n",
    "\n",
    "To iterate on the code:\n",
    "1. Make changes in the next cell. \n",
    "2. Stop the Notebook and Reset the Kernel.\n",
    "3. Run the 3 Setup cells again before re-running the code cell below.\n",
    "\n",
    "**CHANGE VIDEO** : For you to change video, please place the video in samples/panorama_sdk/videos and update the global variables with the video and extension name (video.avi for example)\n",
    "\n",
    "Run only the Set up and Notebook Parameters cells before running this for reiteration"
   ]
  },
  {
   "cell_type": "code",
   "execution_count": null,
   "id": "95db2d38",
   "metadata": {},
   "outputs": [],
   "source": [
    "%%run_and_save app.py\n",
    "\n",
    "import json\n",
    "import logging\n",
    "import time\n",
    "from logging.handlers import RotatingFileHandler\n",
    "\n",
    "import boto3\n",
    "from botocore.exceptions import ClientError\n",
    "import cv2\n",
    "import numpy as np\n",
    "import panoramasdk\n",
    "import datetime\n",
    "from CentroidTracker import CentroidTracker\n",
    "\n",
    "class Application(panoramasdk.node):\n",
    "    def __init__(self):\n",
    "        \"\"\"Initializes the application's attributes with parameters from the interface, and default values.\"\"\"\n",
    "        self.MODEL_NODE = \"model_node\"\n",
    "        self.MODEL_DIM = 300\n",
    "        self.frame_num = 0\n",
    "        self.tracker = CentroidTracker(maxDisappeared=80, maxDistance=90)\n",
    "        self.tracked_objects = []\n",
    "        self.tracked_objects_start_time = dict()\n",
    "        self.tracked_objects_duration = dict()\n",
    "\n",
    "        try:\n",
    "            # Parameters\n",
    "            logger.info('Configuring parameters.')\n",
    "            self.threshold = self.inputs.threshold.get()\n",
    "            \n",
    "            # Desired class\n",
    "            self.classids = [3.]\n",
    "\n",
    "        except:\n",
    "            logger.exception('Error during initialization.')\n",
    "        finally:\n",
    "            logger.info('Initialiation complete.')\n",
    "\n",
    "    def process_streams(self):\n",
    "        \"\"\"Processes one frame of video from one or more video streams.\"\"\"\n",
    "        self.frame_num += 1\n",
    "        logger.debug(self.frame_num)\n",
    "\n",
    "        # Loop through attached video streams\n",
    "        streams = self.inputs.video_in.get()\n",
    "        for stream in streams:\n",
    "            self.process_media(stream)\n",
    "\n",
    "        self.outputs.video_out.put(streams)\n",
    "\n",
    "    def process_media(self, stream):\n",
    "        \"\"\"Runs inference on a frame of video.\"\"\"\n",
    "        image_data = preprocess(stream.image, self.MODEL_DIM)\n",
    "        logger.debug(image_data.shape)\n",
    "\n",
    "        # Run inference\n",
    "        inference_results = self.call({\"image_tensor\":image_data}, self.MODEL_NODE)\n",
    "\n",
    "        # Process results (object deteciton)\n",
    "        self.process_results(inference_results, stream)\n",
    "\n",
    "    def process_results(self, inference_results, stream):\n",
    "        \"\"\"Processes output tensors from a computer vision model and annotates a video frame.\"\"\"\n",
    "        if inference_results is None:\n",
    "            logger.warning(\"Inference results are None.\")\n",
    "            return\n",
    "        \n",
    "        w,h,c = stream.image.shape\n",
    "\n",
    "        conf_scores = None\n",
    "        classes = None\n",
    "        bboxes = None\n",
    "        rects = []\n",
    "\n",
    "        for det in inference_results:\n",
    "            if det.shape[-1] == 4:\n",
    "                bboxes = det[0]\n",
    "            elif det.shape[-1] == 100:\n",
    "                if det[0][0] >= 1:\n",
    "                    classes = det[0]\n",
    "                else:\n",
    "                    conf_scores = det[0]\n",
    "        \n",
    "        for a in range(len(conf_scores)):\n",
    "            if conf_scores[a] * 100 > self.threshold and classes[a] in self.classids:\n",
    "                (top, left, bottom, right) = bboxes[a]\n",
    "                rects.append([left*w, top*h, right*w, bottom*h])\n",
    "                stream.add_rect(left, top, right, bottom)\n",
    "                \n",
    "        rects = np.array(rects)\n",
    "        rects = rects.astype(int)\n",
    "        objects = self.tracker.update(rects)\n",
    "        \n",
    "        logger.info('Tracking {} cars'.format(len(objects)))\n",
    "        \n",
    "        for (objectID, bbox) in objects.items():\n",
    "            x1, y1, x2, y2 = bbox\n",
    "            x1 = int(x1)\n",
    "            y1 = int(y1)\n",
    "            x2 = int(x2)\n",
    "            y2 = int(y2)\n",
    "\n",
    "            if objectID not in self.tracked_objects:\n",
    "                self.tracked_objects.append(objectID)\n",
    "                self.tracked_objects_start_time[objectID] = datetime.datetime.now()\n",
    "                self.tracked_objects_duration[objectID] = 0\n",
    "            else:\n",
    "                time_diff = datetime.datetime.now() - self.tracked_objects_start_time[objectID]\n",
    "                sec = time_diff.total_seconds()\n",
    "                self.tracked_objects_duration[objectID] = sec\n",
    "            \n",
    "            duration = self.tracked_objects_duration[objectID]\n",
    "            \n",
    "            logger.info('CarId: {} at ({},{}) for {}'.format(objectID, x1, y1, duration))\n",
    "            stream.add_rect(x1/w, y1/h, x2/w, y2/h)\n",
    "            stream.add_label('{}s'.format(str(duration)), x1/w, y1/h)\n",
    "\n",
    "def preprocess(img, size):\n",
    "    \"\"\"Resizes and normalizes a frame of video.\"\"\"\n",
    "    resized = cv2.resize(img, (size, size))\n",
    "    x1 = np.asarray(resized)\n",
    "    x1 = np.expand_dims(x1, 0)\n",
    "    return x1\n",
    "\n",
    "def get_logger(name=__name__,level=logging.INFO):\n",
    "    logger = logging.getLogger(name)\n",
    "    logger.setLevel(level)\n",
    "    handler = RotatingFileHandler(\"/opt/aws/panorama/logs/app.log\", maxBytes=100000000, backupCount=2)\n",
    "    formatter = logging.Formatter(fmt='%(asctime)s %(levelname)-8s %(message)s',\n",
    "                                    datefmt='%Y-%m-%d %H:%M:%S')\n",
    "    handler.setFormatter(formatter)\n",
    "    logger.addHandler(handler)\n",
    "    return logger\n",
    "\n",
    "def main():\n",
    "    try:\n",
    "        logger.info(\"INITIALIZING APPLICATION\")\n",
    "        app = Application()\n",
    "        logger.info(\"PROCESSING STREAMS\")\n",
    "        while True:\n",
    "            app.process_streams()\n",
    "    except:\n",
    "        logger.exception('Exception during processing loop.')\n",
    "\n",
    "logger = get_logger(level=logging.INFO)\n",
    "main()"
   ]
  },
  {
   "cell_type": "markdown",
   "id": "b9901ae3",
   "metadata": {},
   "source": [
    "# Package app\n",
    "\n",
    "Updates the app to be deployed with the recent code"
   ]
  },
  {
   "cell_type": "code",
   "execution_count": null,
   "id": "f72c161f",
   "metadata": {},
   "outputs": [],
   "source": [
    "file_name = 'app.py'\n",
    "package_path = \"{}/{}/{}/packages/{}-{}-1.0/src\".format(workdir, project_name, app_name, account_id, package_name)\n",
    "utils.update_descriptor(project_name, account_id, package_name, file_name)\n",
    "\n",
    "os.system(\"cp {} {}/{}\".format(file_name, package_path, file_name))\n",
    "os.system(\"cp {} {}/{}\".format('CentroidTracker.py', package_path, 'CentroidTracker.py'))"
   ]
  },
  {
   "cell_type": "markdown",
   "id": "bb318878",
   "metadata": {},
   "source": [
    "### Build app with container"
   ]
  },
  {
   "cell_type": "code",
   "execution_count": null,
   "id": "80b6c66c",
   "metadata": {},
   "outputs": [],
   "source": [
    "utils.cleanupipynb(os.curdir)\n",
    "os.chdir('{}/{}/{}'.format(workdir,project_name,app_name))\n",
    "container_asset_name = 'code_asset'"
   ]
  },
  {
   "cell_type": "code",
   "execution_count": null,
   "id": "783e965b",
   "metadata": {},
   "outputs": [],
   "source": [
    "!sudo panorama-cli build --container-asset-name {container_asset_name} \\\n",
    "    --package-path packages/{account_id}-{package_name}-1.0"
   ]
  },
  {
   "cell_type": "markdown",
   "id": "e1a21ace",
   "metadata": {},
   "source": [
    "### Upload application to Panorama for deploying to devices"
   ]
  },
  {
   "cell_type": "code",
   "execution_count": null,
   "id": "51c82339",
   "metadata": {},
   "outputs": [],
   "source": [
    "utils.cleanupipynb(os.curdir)"
   ]
  },
  {
   "cell_type": "markdown",
   "id": "a5a6207c-54af-4f98-a001-60ee247a0c7c",
   "metadata": {},
   "source": [
    "### Update camera streams\n",
    "\n",
    "In the AWS Panorama console, you can select the camera streams, but programmatically, you need to define the camera stream info for the cameras you are using with the app.\n",
    "\n",
    "Open the ```package.json``` in ```packages/<account_number>-RTSP_STREAM-1.0``` and update the camera username, password and URL. After you have updated your camera credentials, run package-application. You can override this camera stream when you deploy the app."
   ]
  },
  {
   "cell_type": "code",
   "execution_count": null,
   "id": "70ed5aa3",
   "metadata": {},
   "outputs": [],
   "source": [
    "!panorama-cli package-application"
   ]
  },
  {
   "cell_type": "code",
   "execution_count": null,
   "id": "e51ca09e",
   "metadata": {},
   "outputs": [],
   "source": [
    "os.chdir('{}/{}'.format(workdir,project_name))"
   ]
  },
  {
   "cell_type": "markdown",
   "id": "55b10936",
   "metadata": {},
   "source": [
    "### Ready for deploying to a device\n",
    "\n",
    "Congrats! Your app is now ready to deploy to a device. Next, you can continue in this notebook to deploy the app programmatically or you can go to the Panorama console and deploying using a GUI. The GUI makes it easier to select camera streams and select the devices you want to deploy to. Programmatic deployment is faster to complete and easier to automate.\n",
    "\n",
    "# Deploy app to device\n",
    "\n",
    "Let's make sure the device we are deploying to is available."
   ]
  },
  {
   "cell_type": "code",
   "execution_count": null,
   "id": "38cc2770",
   "metadata": {},
   "outputs": [],
   "source": [
    "response = panorama_client.describe_device(\n",
    "    DeviceId= DEVICE_ID\n",
    ")\n",
    "\n",
    "print('You are deploying to Device: {}'.format(response['Name']))"
   ]
  },
  {
   "cell_type": "markdown",
   "id": "9d82cc29-5089-4110-a73c-950e9c4d4c9c",
   "metadata": {},
   "source": [
    "#### Deploy Application"
   ]
  },
  {
   "cell_type": "code",
   "execution_count": null,
   "id": "922c3227",
   "metadata": {},
   "outputs": [],
   "source": [
    "utils.deploy_app(DEVICE_ID, project_name, app_name, role=None)"
   ]
  },
  {
   "cell_type": "markdown",
   "id": "51ed70c2-91af-4402-b179-2673c884a3e2",
   "metadata": {},
   "source": [
    "# Clean up"
   ]
  },
  {
   "cell_type": "code",
   "execution_count": null,
   "id": "31b5fd3a",
   "metadata": {},
   "outputs": [],
   "source": [
    "utils.remove_application(DEVICE_ID)"
   ]
  }
 ],
 "metadata": {
  "kernelspec": {
   "display_name": "Python 3",
   "language": "python",
   "name": "python3"
  },
  "language_info": {
   "codemirror_mode": {
    "name": "ipython",
    "version": 3
   },
   "file_extension": ".py",
   "mimetype": "text/x-python",
   "name": "python",
   "nbconvert_exporter": "python",
   "pygments_lexer": "ipython3",
   "version": "3.6.9"
  }
 },
 "nbformat": 4,
 "nbformat_minor": 5
}
