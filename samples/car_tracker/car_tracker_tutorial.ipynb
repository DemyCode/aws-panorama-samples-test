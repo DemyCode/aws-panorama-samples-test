{
 "cells": [
  {
   "cell_type": "markdown",
   "id": "20d791a0",
   "metadata": {
    "tags": []
   },
   "source": [
    "# Car Tracker \n",
    "\n",
    "\n",
    "This notebook shows how to build a simple car dwell time tracker a pretrained SSD Mobilenet Tensorflow Object Detection Model and a Centroid Tracker.\n",
    "\n",
    "By completing this notebook, you will learn:\n",
    "* How to write a Python script for your app that takes in camera streams, performs inference, and outputs results\n",
    "* How to use a Tensorflow Object Detecrtion model with Panorama\n",
    "* How to bundle additional Python files and libraries with your container\n",
    "* How to build a simple car tracker\n",
    "* How to test your code using the Panorama emulator, which saves you build and deploy time\n",
    "* How to programmatically package and deploy applications using the Panorama CLI\n",
    "\n",
    "--- \n",
    "\n",
    "1. [Prerequisites](#Prerequisites)\n",
    "1. [Set up](#Set-up)\n",
    "1. [Import model](#Import-model)\n",
    "1. [Write and test app code](#Write-and-test-app-code)\n",
    "1. [Package app](#Package-app)\n",
    "1. [Deploy app to device](#Deploy-app-to-device)"
   ]
  },
  {
   "cell_type": "markdown",
   "id": "6d28ad3d",
   "metadata": {},
   "source": [
    "# Prerequisites\n",
    "\n",
    "1. In a terminal session on this Jupyter notebook server, run `aws configure`. This allows this notebook server to access Panorama resources on your behalf."
   ]
  },
  {
   "cell_type": "markdown",
   "id": "978aba4d",
   "metadata": {},
   "source": [
    "# Set Up\n",
    "Import libraries for use with this notebook environment, you do not need these libraries when you write your application code. Run these 3 cells every time you update your app code and restart your kernel."
   ]
  },
  {
   "cell_type": "code",
   "execution_count": null,
   "id": "b3214491",
   "metadata": {},
   "outputs": [],
   "source": [
    "import boto3\n",
    "from botocore.exceptions import ClientError\n",
    "s3 = boto3.resource('s3')\n",
    "s3_client = boto3.client('s3')\n",
    "panorama_client = boto3.client('panorama')\n",
    "\n",
    "import os\n",
    "import time\n",
    "import json\n",
    "import sagemaker\n",
    "import sys\n",
    "\n",
    "test_utility_dirname = os.path.abspath(\"../../panorama_sdk\")\n",
    "sys.path.insert( 0, test_utility_dirname )\n",
    "import utils\n",
    "\n",
    "import matplotlib.pyplot as plt\n",
    "%matplotlib inline\n",
    "plt.rcParams[\"figure.figsize\"] = (20,20)\n",
    "from IPython.display import clear_output\n",
    "from IPython.core.magic import register_cell_magic\n",
    "\n",
    "@register_cell_magic\n",
    "def run_and_save(line, cell):\n",
    "    'Run and save python code block to a file'\n",
    "    with open(line, 'wt') as fd:\n",
    "        fd.write(cell)\n",
    "    code = compile(cell, line, 'exec')\n",
    "    exec(code, globals())"
   ]
  },
  {
   "cell_type": "code",
   "execution_count": null,
   "id": "21ccdd30-8e4e-4d34-a24a-90717ef51cf8",
   "metadata": {},
   "outputs": [],
   "source": [
    "# FIXME : only for utility modules development purpose\n",
    "\n",
    "import importlib\n",
    "importlib.reload(utils)\n",
    "\n",
    "import panoramasdk\n",
    "importlib.reload(panoramasdk)\n"
   ]
  },
  {
   "cell_type": "markdown",
   "id": "15beab6c",
   "metadata": {
    "tags": []
   },
   "source": [
    "## Notebook parameters\n",
    "\n",
    "Global constants that help the notebook create Panorama resources on your behalf."
   ]
  },
  {
   "cell_type": "code",
   "execution_count": null,
   "id": "5b6fac93",
   "metadata": {},
   "outputs": [],
   "source": [
    "# Device ID, should look like: device-oc66nax4cgzwhyuaeyifrqowue\n",
    "DEVICE_ID = input( 'DEVICE_ID (format: device-*)' ).strip()\n",
    "\n",
    "# Enter your S3 bucket info here\n",
    "S3_BUCKET = input( 'S3_BUCKET' ).strip()\n",
    "\n",
    "# Enter your desired AWS region\n",
    "AWS_REGION = input( 'AWS_REGION (e.g. us-east-1)' ).strip()  \n",
    "\n",
    "ML_MODEL_FNAME = 'ssd_mobilenet_v2_coco'"
   ]
  },
  {
   "cell_type": "code",
   "execution_count": null,
   "id": "bda1a72e-e528-45e6-9ed6-7cff03266af6",
   "metadata": {},
   "outputs": [],
   "source": [
    "platform_config = utils.get_platform_config()"
   ]
  },
  {
   "cell_type": "code",
   "execution_count": null,
   "id": "da90acb0",
   "metadata": {
    "tags": []
   },
   "outputs": [],
   "source": [
    "## APP Graph Related Globals\n",
    "\n",
    "__builtins__.project_name = 'car_tracker'\n",
    "__builtins__.package_name = 'CAR_TRACKER_CODE'\n",
    "__builtins__.camera_node_name = 'RTSP_STREAM'\n",
    "__builtins__.model_node_name = 'CAR_SSD_TF_MODEL'\n",
    "\n",
    "## Model Related Globals\n",
    "__builtins__.model_preprocess_size = 300\n",
    "__builtins__.emulator_model_name = ML_MODEL_FNAME + '-' + platform_config.compiled_model_suffix\n",
    "\n",
    "## Video Related Globals\n",
    "__builtins__.videoname = 'Car-in-the-mist_coverr.mp4'\n",
    "\n",
    "### Account ID\n",
    "__builtins__.account_id = boto3.client(\"sts\").get_caller_identity()[\"Account\"]\n",
    "\n",
    "### DEPLOYED APPLICATION NAME \n",
    "__builtins__.app_name = 'car_tracker_app'"
   ]
  },
  {
   "cell_type": "code",
   "execution_count": null,
   "id": "e4480c0b-9642-4afb-8d7a-8dfef62e2ce8",
   "metadata": {},
   "outputs": [],
   "source": [
    "# configure utils / panoramasdk module by over writing its global variables\n",
    "\n",
    "# FIXME : should use better approach to configure these modules\n",
    "# FIXME : \"utils\" is too generic name, and may conflict with others. Should use \"panorama_test_utility.py\" or something\n",
    "\n",
    "utils.test_utility_dirname = test_utility_dirname\n",
    "panoramasdk.test_utility_dirname = test_utility_dirname"
   ]
  },
  {
   "cell_type": "markdown",
   "id": "d10538b4",
   "metadata": {
    "tags": []
   },
   "source": [
    "## Set up application\n",
    "\n",
    "Every application uses the creator's AWS Account ID as the prefix to uniquely identifies the application resources. Running `panorama-cli import-application` replaces the generic account Id with your account Id."
   ]
  },
  {
   "cell_type": "code",
   "execution_count": null,
   "id": "d017f0bd",
   "metadata": {},
   "outputs": [],
   "source": [
    "!cd ./car_tracker_app && panorama-cli import-application"
   ]
  },
  {
   "cell_type": "markdown",
   "id": "8933b6d8",
   "metadata": {
    "tags": []
   },
   "source": [
    "# Import model\n",
    "\n",
    "We need to compile and import the model twice. Once for testing with this notebook server and once for deploying to the Panorama device.\n",
    "\n",
    "While working with the Panorama sample code, we provide pretrained models for you to use. Locally, models are stored in `panorama_sdk/models`. This step downloads the model artifacts from our Amazon S3 bucket to the local folder. If you want to use your own models, put your tar.gz file into the `panorama_sdk/models folder`."
   ]
  },
  {
   "cell_type": "markdown",
   "id": "23f9a327",
   "metadata": {},
   "source": [
    "### Prepare model for testing with notebook server"
   ]
  },
  {
   "cell_type": "code",
   "execution_count": null,
   "id": "ca75fc18",
   "metadata": {
    "scrolled": true,
    "tags": []
   },
   "outputs": [],
   "source": [
    "# Downloads pretrained model to this notebook\n",
    "utils.download_model(ML_MODEL_FNAME)"
   ]
  },
  {
   "cell_type": "markdown",
   "id": "cd278e76",
   "metadata": {},
   "source": [
    "Uploads the model to S3 in order to start the compilation job."
   ]
  },
  {
   "cell_type": "code",
   "execution_count": null,
   "id": "994f5fc7",
   "metadata": {},
   "outputs": [],
   "source": [
    "s3.meta.client.upload_file(\n",
    "    f'{test_utility_dirname}/models/{ML_MODEL_FNAME}.tar.gz', \n",
    "    S3_BUCKET, f'{project_name}/{ML_MODEL_FNAME}.tar.gz'\n",
    ")"
   ]
  },
  {
   "cell_type": "markdown",
   "id": "71244621",
   "metadata": {},
   "source": [
    "Start the compilation job. For the Panorama samples, we provide a utils.py library with common functions. We encourage you to look at the code inside utils.py in order to learn what the common functions are doing `panorama_sdk/utils.py`."
   ]
  },
  {
   "cell_type": "code",
   "execution_count": null,
   "id": "ac71b397",
   "metadata": {},
   "outputs": [],
   "source": [
    "utils.compile_model(\n",
    "    region = AWS_REGION, \n",
    "    s3_model_location = f's3://{S3_BUCKET}/{project_name}/{ML_MODEL_FNAME}.tar.gz',\n",
    "    data_shape = '{\"image_tensor\":[1,300,300,3]}', \n",
    "    framework = 'TENSORFLOW',\n",
    "    target_platform = platform_config.neo_target_platform,\n",
    "    s3_output_location = f's3://{S3_BUCKET}/{project_name}/',\n",
    "    role = utils.resolve_sm_role()\n",
    ")"
   ]
  },
  {
   "cell_type": "markdown",
   "id": "bec59b12",
   "metadata": {
    "tags": []
   },
   "source": [
    "Downloads the compiled model for use with this notebook server."
   ]
  },
  {
   "cell_type": "code",
   "execution_count": null,
   "id": "29bc315f",
   "metadata": {
    "tags": []
   },
   "outputs": [],
   "source": [
    "s3_client.download_file(\n",
    "    S3_BUCKET, f'{project_name}/{ML_MODEL_FNAME}-{platform_config.compiled_model_suffix}.tar.gz',\n",
    "    f'{test_utility_dirname}/models/{ML_MODEL_FNAME}-{platform_config.compiled_model_suffix}.tar.gz'\n",
    ")"
   ]
  },
  {
   "cell_type": "markdown",
   "id": "bc54a848",
   "metadata": {},
   "source": [
    "Unzip the compiled model"
   ]
  },
  {
   "cell_type": "code",
   "execution_count": null,
   "id": "e0b455bf",
   "metadata": {},
   "outputs": [],
   "source": [
    "utils.extract_targz( \n",
    "    f\"{test_utility_dirname}/models/{ML_MODEL_FNAME}-{platform_config.compiled_model_suffix}.tar.gz\", \n",
    "    f\"{test_utility_dirname}/models/{ML_MODEL_FNAME}-{platform_config.compiled_model_suffix}\"\n",
    ")"
   ]
  },
  {
   "cell_type": "markdown",
   "id": "e17a5f4a",
   "metadata": {
    "tags": []
   },
   "source": [
    "### Prepare model for deploying to Panorama device\n"
   ]
  },
  {
   "cell_type": "code",
   "execution_count": null,
   "id": "b01d42e3",
   "metadata": {},
   "outputs": [],
   "source": [
    "asset_name = 'model_asset'\n",
    "package_path = f'packages/{account_id}-{model_node_name}-1.0'\n",
    "descriptor_path = f'packages/{account_id}-{model_node_name}-1.0/descriptor.json'"
   ]
  },
  {
   "cell_type": "code",
   "execution_count": null,
   "id": "d347cc0f",
   "metadata": {},
   "outputs": [],
   "source": [
    "!cd ./car_tracker_app && panorama-cli add-raw-model \\\n",
    "    --model-asset-name {asset_name} \\\n",
    "    --model-s3-uri s3://{S3_BUCKET}/{project_name}/{ML_MODEL_FNAME}.tar.gz \\\n",
    "    --descriptor-path {descriptor_path}  \\\n",
    "    --packages-path {package_path}"
   ]
  },
  {
   "cell_type": "markdown",
   "id": "db9ba77e",
   "metadata": {},
   "source": [
    "# Write and test app code"
   ]
  },
  {
   "cell_type": "markdown",
   "id": "e11fbf47",
   "metadata": {},
   "source": [
    "Every app has an entry point script, written in Python that pulls the frames from camera streams, performs inference, and send the results to the desired location. This file can be found in `your_app/packages/code_node/src/main.py`. Below, you will iterate on the code from within the notebook environment. The entry point file will be updated everytime you run the next notebook cell thanks to the `%%run_and_save people_counter_main.py`. This is a utility function to update the contents of the entry point script. \n",
    "\n",
    "The next cell will loop through the test video until you select Stop on your Jupyter notebook cell. \n",
    "\n",
    "### Iterating on Code Changes\n",
    "\n",
    "To iterate on the code:\n",
    "1. Make changes in the next cell. \n",
    "2. Stop the Notebook and Reset the Kernel.\n",
    "3. Run the 3 Setup cells again before re-running the code cell below.\n",
    "\n",
    "**CHANGE VIDEO** : For you to change video, please place the video in samples/panorama_sdk/videos and update the global variables with the video and extension name (video.avi for example)\n",
    "\n",
    "Run only the Set up and Notebook Parameters cells before running this for reiteration"
   ]
  },
  {
   "cell_type": "code",
   "execution_count": null,
   "id": "95db2d38",
   "metadata": {},
   "outputs": [],
   "source": [
    "%%run_and_save app.py\n",
    "\n",
    "import json\n",
    "import logging\n",
    "import time\n",
    "from logging.handlers import RotatingFileHandler\n",
    "\n",
    "import boto3\n",
    "from botocore.exceptions import ClientError\n",
    "import cv2\n",
    "import numpy as np\n",
    "import panoramasdk\n",
    "import datetime\n",
    "from CentroidTracker import CentroidTracker\n",
    "\n",
    "class Application(panoramasdk.node):\n",
    "    def __init__(self):\n",
    "        \"\"\"Initializes the application's attributes with parameters from the interface, and default values.\"\"\"\n",
    "\n",
    "        # FIXME : on real hardware, this __init__ call is not needed. Can we fix this? \n",
    "        panoramasdk.node.__init__(self)\n",
    "        \n",
    "        self.MODEL_NODE = \"model_node\"\n",
    "        self.MODEL_DIM = 300\n",
    "        self.frame_num = 0\n",
    "        self.tracker = CentroidTracker(maxDisappeared=80, maxDistance=90)\n",
    "        self.tracked_objects = []\n",
    "        self.tracked_objects_start_time = dict()\n",
    "        self.tracked_objects_duration = dict()\n",
    "\n",
    "        try:\n",
    "            # Parameters\n",
    "            logger.info('Configuring parameters.')\n",
    "            self.threshold = self.inputs.threshold.get()\n",
    "            \n",
    "            # Desired class\n",
    "            self.classids = [3.]\n",
    "\n",
    "        except:\n",
    "            logger.exception('Error during initialization.')\n",
    "        finally:\n",
    "            logger.info('Initialiation complete.')\n",
    "\n",
    "    def process_streams(self):\n",
    "        \"\"\"Processes one frame of video from one or more video streams.\"\"\"\n",
    "        self.frame_num += 1\n",
    "        logger.debug(self.frame_num)\n",
    "\n",
    "        # Loop through attached video streams\n",
    "        streams = self.inputs.video_in.get()\n",
    "        for stream in streams:\n",
    "            self.process_media(stream)\n",
    "\n",
    "        self.outputs.video_out.put(streams)\n",
    "\n",
    "    def process_media(self, stream):\n",
    "        \"\"\"Runs inference on a frame of video.\"\"\"\n",
    "        image_data = preprocess(stream.image, self.MODEL_DIM)\n",
    "        logger.debug(image_data.shape)\n",
    "\n",
    "        # Run inference\n",
    "        inference_results = self.call({\"image_tensor\":image_data}, self.MODEL_NODE)\n",
    "\n",
    "        # Process results (object deteciton)\n",
    "        self.process_results(inference_results, stream)\n",
    "\n",
    "    def process_results(self, inference_results, stream):\n",
    "        \"\"\"Processes output tensors from a computer vision model and annotates a video frame.\"\"\"\n",
    "        if inference_results is None:\n",
    "            logger.warning(\"Inference results are None.\")\n",
    "            return\n",
    "        \n",
    "        w,h,c = stream.image.shape\n",
    "\n",
    "        conf_scores = None\n",
    "        classes = None\n",
    "        bboxes = None\n",
    "        rects = []\n",
    "\n",
    "        for det in inference_results:\n",
    "            if det.shape[-1] == 4:\n",
    "                bboxes = det[0]\n",
    "            elif det.shape[-1] == 100:\n",
    "                if det[0][0] >= 1:\n",
    "                    classes = det[0]\n",
    "                else:\n",
    "                    conf_scores = det[0]\n",
    "        \n",
    "        for a in range(len(conf_scores)):\n",
    "            if conf_scores[a] * 100 > self.threshold and classes[a] in self.classids:\n",
    "                (top, left, bottom, right) = bboxes[a]\n",
    "                rects.append([left*w, top*h, right*w, bottom*h])\n",
    "                stream.add_rect(left, top, right, bottom)\n",
    "                \n",
    "        rects = np.array(rects)\n",
    "        rects = rects.astype(int)\n",
    "        objects = self.tracker.update(rects)\n",
    "        \n",
    "        logger.info('Tracking {} cars'.format(len(objects)))\n",
    "        \n",
    "        for (objectID, bbox) in objects.items():\n",
    "            x1, y1, x2, y2 = bbox\n",
    "            x1 = int(x1)\n",
    "            y1 = int(y1)\n",
    "            x2 = int(x2)\n",
    "            y2 = int(y2)\n",
    "\n",
    "            if objectID not in self.tracked_objects:\n",
    "                self.tracked_objects.append(objectID)\n",
    "                self.tracked_objects_start_time[objectID] = datetime.datetime.now()\n",
    "                self.tracked_objects_duration[objectID] = 0\n",
    "            else:\n",
    "                time_diff = datetime.datetime.now() - self.tracked_objects_start_time[objectID]\n",
    "                sec = time_diff.total_seconds()\n",
    "                self.tracked_objects_duration[objectID] = sec\n",
    "            \n",
    "            duration = self.tracked_objects_duration[objectID]\n",
    "            \n",
    "            logger.info('CarId: {} at ({},{}) for {}'.format(objectID, x1, y1, duration))\n",
    "            stream.add_rect(x1/w, y1/h, x2/w, y2/h)\n",
    "            stream.add_label('{}s'.format(str(duration)), x1/w, y1/h)\n",
    "\n",
    "def preprocess(img, size):\n",
    "    \"\"\"Resizes and normalizes a frame of video.\"\"\"\n",
    "    resized = cv2.resize(img, (size, size))\n",
    "    x1 = np.asarray(resized)\n",
    "    x1 = np.expand_dims(x1, 0)\n",
    "    return x1\n",
    "\n",
    "def get_logger(name=__name__,level=logging.INFO):\n",
    "    logger = logging.getLogger(name)\n",
    "    logger.setLevel(level)\n",
    "    handler = RotatingFileHandler(\"/opt/aws/panorama/logs/app.log\", maxBytes=100000000, backupCount=2)\n",
    "    formatter = logging.Formatter(fmt='%(asctime)s %(levelname)-8s %(message)s',\n",
    "                                    datefmt='%Y-%m-%d %H:%M:%S')\n",
    "    handler.setFormatter(formatter)\n",
    "    logger.addHandler(handler)\n",
    "    return logger\n",
    "\n",
    "def main():\n",
    "    try:\n",
    "        logger.info(\"INITIALIZING APPLICATION\")\n",
    "        app = Application()\n",
    "        logger.info(\"PROCESSING STREAMS\")\n",
    "        while True:\n",
    "            app.process_streams()\n",
    "    except:\n",
    "        logger.exception('Exception during processing loop.')\n",
    "\n",
    "logger = get_logger(level=logging.INFO)\n",
    "main()"
   ]
  },
  {
   "cell_type": "markdown",
   "id": "b9901ae3",
   "metadata": {},
   "source": [
    "# Package app\n",
    "\n",
    "Updates the app to be deployed with the recent code"
   ]
  },
  {
   "cell_type": "code",
   "execution_count": null,
   "id": "f72c161f",
   "metadata": {},
   "outputs": [],
   "source": [
    "file_name = 'app.py'\n",
    "package_path = f\"./{app_name}/packages/{account_id}-{package_name}-1.0/src\"\n",
    "utils.update_descriptor(project_name, account_id, package_name, file_name)\n",
    "\n",
    "os.system(f\"cp {file_name} {package_path}/{file_name}\")\n",
    "os.system(f\"cp CentroidTracker.py {package_path}/CentroidTracker.py\")"
   ]
  },
  {
   "cell_type": "markdown",
   "id": "bb318878",
   "metadata": {},
   "source": [
    "### Build app with container"
   ]
  },
  {
   "cell_type": "code",
   "execution_count": null,
   "id": "80b6c66c",
   "metadata": {},
   "outputs": [],
   "source": [
    "container_asset_name = 'code_asset'"
   ]
  },
  {
   "cell_type": "code",
   "execution_count": null,
   "id": "783e965b",
   "metadata": {},
   "outputs": [],
   "source": [
    "%%capture captured_output\n",
    "# FIXME : without %%capture, browser tab crashes because of too much output from the command.\n",
    "\n",
    "!cd ./car_tracker_app && panorama-cli build \\\n",
    "    --container-asset-name {container_asset_name} \\\n",
    "    --package-path packages/{account_id}-{package_name}-1.0"
   ]
  },
  {
   "cell_type": "code",
   "execution_count": null,
   "id": "4de3b376-2ad5-4fca-9512-8dddd59ff2b9",
   "metadata": {},
   "outputs": [],
   "source": [
    "stdout_lines = captured_output.stdout.splitlines()\n",
    "stderr_lines = captured_output.stderr.splitlines()\n",
    "print(\"     :\")\n",
    "print(\"     :\")\n",
    "for line in stdout_lines[-30:] + stderr_lines[-30:]:\n",
    "    print(line)"
   ]
  },
  {
   "cell_type": "markdown",
   "id": "e1a21ace",
   "metadata": {},
   "source": [
    "### Upload application to Panorama for deploying to devices"
   ]
  },
  {
   "cell_type": "markdown",
   "id": "a5a6207c-54af-4f98-a001-60ee247a0c7c",
   "metadata": {},
   "source": [
    "### Update camera streams\n",
    "\n",
    "In the AWS Panorama console, you can select the camera streams, but programmatically, you need to define the camera stream info for the cameras you are using with the app.\n",
    "\n",
    "Open the ```package.json``` in ```packages/<account_number>-RTSP_STREAM-1.0``` and update the camera username, password and URL. After you have updated your camera credentials, run package-application. You can override this camera stream when you deploy the app."
   ]
  },
  {
   "cell_type": "code",
   "execution_count": null,
   "id": "70ed5aa3",
   "metadata": {},
   "outputs": [],
   "source": [
    "!cd ./car_tracker_app && panorama-cli package-application"
   ]
  },
  {
   "cell_type": "markdown",
   "id": "55b10936",
   "metadata": {},
   "source": [
    "### Ready for deploying to a device\n",
    "\n",
    "Congrats! Your app is now ready to deploy to a device. Next, you can continue in this notebook to deploy the app programmatically or you can go to the Panorama console and deploying using a GUI. The GUI makes it easier to select camera streams and select the devices you want to deploy to. Programmatic deployment is faster to complete and easier to automate.\n",
    "\n",
    "# Deploy app to device\n",
    "\n",
    "Let's make sure the device we are deploying to is available."
   ]
  },
  {
   "cell_type": "code",
   "execution_count": null,
   "id": "38cc2770",
   "metadata": {},
   "outputs": [],
   "source": [
    "response = panorama_client.describe_device(\n",
    "    DeviceId= DEVICE_ID\n",
    ")\n",
    "\n",
    "print('You are deploying to Device: {}'.format(response['Name']))"
   ]
  },
  {
   "cell_type": "markdown",
   "id": "9d82cc29-5089-4110-a73c-950e9c4d4c9c",
   "metadata": {},
   "source": [
    "#### Deploy Application"
   ]
  },
  {
   "cell_type": "code",
   "execution_count": null,
   "id": "922c3227",
   "metadata": {},
   "outputs": [],
   "source": [
    "response = utils.deploy_app(DEVICE_ID, project_name, app_name, role=None)\n",
    "\n",
    "response"
   ]
  },
  {
   "cell_type": "markdown",
   "id": "51ed70c2-91af-4402-b179-2673c884a3e2",
   "metadata": {},
   "source": [
    "# Clean up"
   ]
  },
  {
   "cell_type": "code",
   "execution_count": null,
   "id": "31b5fd3a",
   "metadata": {},
   "outputs": [],
   "source": [
    "application_instance_id = response['ApplicationInstanceId']\n",
    "\n",
    "utils.remove_application( DEVICE_ID, application_instance_id )"
   ]
  },
  {
   "cell_type": "code",
   "execution_count": null,
   "id": "55d6c9f9-42c5-4386-97f1-37adf4a627ff",
   "metadata": {},
   "outputs": [],
   "source": []
  }
 ],
 "metadata": {
  "kernelspec": {
   "display_name": "Python 3 (ipykernel)",
   "language": "python",
   "name": "python3"
  },
  "language_info": {
   "codemirror_mode": {
    "name": "ipython",
    "version": 3
   },
   "file_extension": ".py",
   "mimetype": "text/x-python",
   "name": "python",
   "nbconvert_exporter": "python",
   "pygments_lexer": "ipython3",
   "version": "3.7.5"
  }
 },
 "nbformat": 4,
 "nbformat_minor": 5
}
